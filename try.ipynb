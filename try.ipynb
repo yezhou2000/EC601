{
 "cells": [
  {
   "cell_type": "code",
   "execution_count": 1,
   "metadata": {},
   "outputs": [],
   "source": [
    "API_KEY=\"Iu6LRanoM70gFj9OG3IhImKis\"\n",
    "API_KEY_secret=\"2yq1gpMebXHmqimmPBUvlrarvxxoEHELo2Q6EfvWJAJdGHCKHE\"\n",
    "Bearer_token=\"AAAAAAAAAAAAAAAAAAAAAD%2F6hgEAAAAAKPQm01BNOFDmZirdQT%2B%2FVdxWO9I%3Dxo8uRevfOReBXY82sLMyoDaVNiP5UpbTpA4yR06eHqVKCipv2n\"\n",
    "Access_token=\"1558534646769516546-Bu3F8R09Tl93ezky1123cc2Hz4SJUf\"\n",
    "Access_token_secret=\"yC6K5lNTHKUCfRFM4QJxpJJyqAkREGLS6NtcADUYnyRLy\""
   ]
  },
  {
   "cell_type": "code",
   "execution_count": 4,
   "metadata": {},
   "outputs": [],
   "source": [
    "\n",
    "import tweepy\n"
   ]
  },
  {
   "cell_type": "code",
   "execution_count": 5,
   "metadata": {},
   "outputs": [],
   "source": [
    "client = tweepy.Client(bearer_token=Bearer_token)"
   ]
  },
  {
   "cell_type": "code",
   "execution_count": 14,
   "metadata": {},
   "outputs": [
    {
     "name": "stdout",
     "output_type": "stream",
     "text": [
      "Response(data=[<Tweet id=1578575686524370944 text='RT @VTVcanal8: #PREVENCIÓN😷| Si presentas gripe o resfriado, recuerda usar las medidas de bioseguridad; con esfuerzo propio, derrotaremos a…'>, <Tweet id=1578575685744218112 text='RT @NathanMackBrown: If you want to unfollow me for still tweeting about COVID vaccines, go right ahead.\\n\\nHealth experts recommend we get t…'>, <Tweet id=1578575685492563968 text=\"@SamiPJami @LivNews Nasal irrigation, supplements, sunshine, and exercise have kept my two chronically ill, unvaxxed, unmasked, college students from getting Covid. Haven't even had a cold. Tons of sick kids and teachers on campus, most jabbed. You made the wrong choice\">, <Tweet id=1578575684565225472 text=\"RT @WillMeyerPA: Emily's school had this weird policy that children may return to school 3 days after symptoms BEGIN for Covid. The school…\">, <Tweet id=1578575684548497408 text='RT @theJagmeetSingh: Beyond outrageous.\\n\\n$54 million on app that tech leaders say could have been built for less than $250k.  \\n\\n$54 million…'>, <Tweet id=1578575683584163840 text='RT @_anahikari: Vcs lembram disso em 2020?\\nEra uma homenagem à vítimas da covid em Copacabana e um homem DERRUBOU CRUZES que simbolizavam o…'>, <Tweet id=1578575683122761728 text='RT @diafeliz_latin: 英テレグラフ紙によると、英で現在コロナ陽性者は422万1818人。long covid（コロナ後遺症）で働けなくなり11万人が失業。英の後遺症数は200万人以上で10人に1人が休職。企業は人員不足でまわらず、新規雇用や生産量を減らし対応し…'>, <Tweet id=1578575682640441344 text='RT @Paullo_Gustavo: Difamação não colou?: Bolsonaro venceu em 87 das 100 cidades onde mais houve mortes por Covid: https://t.co/7SOLPLXzEG…'>, <Tweet id=1578575681851920386 text='RT @MeetJess: “When Addenbrooke’s Hospital in Cambridge upgraded its face masks for staff working on COVID-19 wards to filtering face piece…'>, <Tweet id=1578575681629233152 text='RT @sandy_d77: BREAKING BIG: FL Surgeon General Finds 84% Increase in Cardiac-Related DEATH in Males 18-39 Following mRNA Vaccine - Recomme…'>, <Tweet id=1578575681277267968 text='RT @LePapillonBlu2: A new study shows that Covid deaths are higher among republicans than democrats. Fox News kills!'>, <Tweet id=1578575680589434880 text='@TR_Shotz You can tell shotz is embracing Florida life not being held to covid mask. While like 99% of people wearing mask at the convention'>, <Tweet id=1578575679398227968 text='RT @mopsstimme: Betretungsverbot bei Läusen. Aber man kann ohne negativen #Covid - Test zurück in die Schule. Ja aber gut - wer trauert nic…'>, <Tweet id=1578575678567460865 text='Mounting evidence shows autoimmune responses play a significant role in long Covid\\nRecent research suggests people with long Covid are more likely to have markers of autoimmune disease in their blood a year after infection.\\nhttps://t.co/d2uJcxJi5H'>, <Tweet id=1578575678500667392 text='RT @bUr4WWH7ZK7oUfD: https://t.co/BZND57zIjK\\n\\n奈良県立医大\\u3000プレスリリースより\\n抜粋『69 歳以下においては、オミクロン 株流行期の COVID-19 の年間死亡者数が、COVID-19 流行前のインフルエンザの年間死亡 者数と比べ…'>, <Tweet id=1578575677858533376 text=\"RT @Emywinst: I'm vaccinated against Covid-19 and trumpism\">, <Tweet id=1578575677141315584 text='RT @edwereddie: October 7, 2020  \\n\\n\"The New England Journal of Medicine published an editorial written by its editors condemning the Trump…'>, <Tweet id=1578575675875012609 text='https://t.co/JKR5nnghRF \\n#jobposting #covid #training #india #cv #internship #recruiters #bhfyp #itjobs #joinourteam #technology #recruitmentagency #jobfair #entrepreneur #jobhunting #engineering #leadership #werehiring #team #careergoals'>, <Tweet id=1578575674855460864 text='RT @Caleb__MK4: El carnicero de Ucrania, Putin, cumple 70 con:\\n\\n👉🏼390 mil decesos por covid. (con vacuna sputnik, la que compró en Argentin…'>, <Tweet id=1578575674842894336 text='RT @VTVcanal8: #PREVENCIÓN😷| Combate a la COVID-19 con la mejor combinación: la mascarilla y las vacunas. \\n\\nSé consciente y ¡Cuídate! 🦠\\n\\n#C…'>], includes={'users': [<User id=1485987704630300676 name=🌴🌴🥥Karol Salas🥥🌴🌴 username=KarolSalas89>, <User id=2473015189 name=Nancy Smith username=Jingo57>, <User id=1486065291914268674 name=Jo Jo username=JoJoJinxe>, <User id=1044422952765218818 name=UMA username=UMA67669053>, <User id=1143660123325456384 name=Marky_B username=MarkyB04019844>, <User id=1385619643356917762 name=𝐌𝐢𝐥𝐥𝐚 é 13 ⭐- ☂︎ username=Soflykento>, <User id=53332018 name=横田 明宏 ウィズ ザ・ジュヌコネパ 公式 username=ayokota>, <User id=276788815 name=bruno alves username=brunoalvers>, <User id=1611445934 name=All the Rage username=LeastIThoughtSo>, <User id=816357733930856448 name=LCPUSA username=LCPUSA>, <User id=1490513527420895232 name=Ali username=AliceM93255652>, <User id=1404594118051966979 name=Quna username=Quna_Zelsius>, <User id=3436523242 name=Grumpy Bear username=grumpy_bear23>, <User id=3291594091 name=Pixi Vaxxed username=Pixie1665>, <User id=949797707576623104 name=ともりん username=2020j01go>, <User id=1295798377687314432 name=Thaddeus Bangle username=BangleThaddeus>, <User id=27281240 name=wei wu wei username=Osmotheque78000>, <User id=1570946568156549120 name=Sammy Crowd username=crowd_sammy>, <User id=1343979242187612160 name=Jorge Abuin username=JorgeAbuin2>, <User id=1542356474873188353 name=nereida gonzalez username=Nere_Reina>]}, errors=[], meta={'newest_id': '1578575686524370944', 'oldest_id': '1578575674842894336', 'result_count': 20, 'next_token': 'b26v89c19zqg8o3fpzbn1e28c4vyi4l3k60p6ho7hlh19'})\n"
     ]
    }
   ],
   "source": [
    "query = 'covid -is:retweet place_country:US'\n",
    "response = client.search_recent_tweets(query=query, max_results=20, tweet_fields = ['created_at','lang'], expansions=['author_id'])\n",
    "print(response)"
   ]
  },
  {
   "cell_type": "code",
   "execution_count": 16,
   "metadata": {},
   "outputs": [],
   "source": [
    "users = {u['id']: u for u in response.includes['users']}\n"
   ]
  },
  {
   "cell_type": "code",
   "execution_count": 17,
   "metadata": {},
   "outputs": [
    {
     "name": "stdout",
     "output_type": "stream",
     "text": [
      "1578575686524370944\n",
      "es\n",
      "KarolSalas89\n",
      "1578575685744218112\n",
      "en\n",
      "Jingo57\n",
      "1578575685492563968\n",
      "en\n",
      "JoJoJinxe\n",
      "1578575684565225472\n",
      "en\n",
      "UMA67669053\n",
      "1578575684548497408\n",
      "en\n",
      "MarkyB04019844\n",
      "1578575683584163840\n",
      "pt\n",
      "Soflykento\n",
      "1578575683122761728\n",
      "ja\n",
      "ayokota\n",
      "1578575682640441344\n",
      "pt\n",
      "brunoalvers\n",
      "1578575681851920386\n",
      "en\n",
      "LeastIThoughtSo\n",
      "1578575681629233152\n",
      "en\n",
      "LCPUSA\n",
      "1578575681277267968\n",
      "en\n",
      "AliceM93255652\n",
      "1578575680589434880\n",
      "en\n",
      "Quna_Zelsius\n",
      "1578575679398227968\n",
      "de\n",
      "grumpy_bear23\n",
      "1578575678567460865\n",
      "en\n",
      "Pixie1665\n",
      "1578575678500667392\n",
      "ja\n",
      "2020j01go\n",
      "1578575677858533376\n",
      "en\n",
      "BangleThaddeus\n",
      "1578575677141315584\n",
      "en\n",
      "Osmotheque78000\n",
      "1578575675875012609\n",
      "qme\n",
      "crowd_sammy\n",
      "1578575674855460864\n",
      "es\n",
      "JorgeAbuin2\n",
      "1578575674842894336\n",
      "es\n",
      "Nere_Reina\n"
     ]
    }
   ],
   "source": [
    "for tweet in response.data:\n",
    "    user = users[tweet.author_id]\n",
    "    print(tweet.id)\n",
    "    print(tweet.lang)\n",
    "    print(user.username)"
   ]
  },
  {
   "cell_type": "code",
   "execution_count": 13,
   "metadata": {},
   "outputs": [],
   "source": [
    "# auth = tweepy.OAuthHandler(API_KEY, API_KEY_secret)\n",
    "# auth.set_access_token(Access_token, Access_token_secret)\n",
    "\n",
    "# api = tweepy.API(auth)\n",
    "\n",
    "# public_tweets = api.home_timeline()\n",
    "# for tweet in public_tweets:\n",
    "#     print(tweet.text)"
   ]
  },
  {
   "cell_type": "code",
   "execution_count": null,
   "metadata": {},
   "outputs": [],
   "source": []
  }
 ],
 "metadata": {
  "kernelspec": {
   "display_name": "Python 3.9.12 ('base')",
   "language": "python",
   "name": "python3"
  },
  "language_info": {
   "codemirror_mode": {
    "name": "ipython",
    "version": 3
   },
   "file_extension": ".py",
   "mimetype": "text/x-python",
   "name": "python",
   "nbconvert_exporter": "python",
   "pygments_lexer": "ipython3",
   "version": "3.9.12"
  },
  "orig_nbformat": 4,
  "vscode": {
   "interpreter": {
    "hash": "0983834e8fcdf7695831f73ed13330dae4d0b069a65f3eaff1182933f8d61191"
   }
  }
 },
 "nbformat": 4,
 "nbformat_minor": 2
}
